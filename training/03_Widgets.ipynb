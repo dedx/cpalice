{
 "cells": [
  {
   "cell_type": "markdown",
   "metadata": {},
   "source": [
    "# 03 Widgets and Interactive Data Analysis"
   ]
  },
  {
   "cell_type": "markdown",
   "metadata": {},
   "source": [
    "This notebook is meant to show you some very recent developments in the iPython ecosystem that will likely revolutionize the way we work with data, interact with and evaluate mathematical functions and think about physics.\n",
    "\n",
    "Created from the [widget documentation](http://nbviewer.ipython.org/github/ipython/ipython/blob/2.x/examples/Interactive%20Widgets/Index.ipynb) pages."
   ]
  },
  {
   "cell_type": "code",
   "execution_count": null,
   "metadata": {
    "collapsed": false
   },
   "outputs": [],
   "source": [
    "%pylab inline\n",
    "import matplotlib.pyplot as plt\n",
    "import numpy as np"
   ]
  },
  {
   "cell_type": "markdown",
   "metadata": {},
   "source": [
    "## Widgets"
   ]
  },
  {
   "cell_type": "markdown",
   "metadata": {},
   "source": [
    "A new library available in iPython is the ability to create widgets, tools that allow you to interact with the notebook in useful ways.  This is a very new addition to iPython, so the doumentation is not as mature as other libraries, but that will rapidly change as more people use them.  For now, we'll explore a couple of different kinds of widgets to give you a sense for some of the possibilities and for how easy it is to create and use them.  For more info see [this talk](http://nbviewer.ipython.org/github/jakevdp/matplotlib_pydata2013/blob/master/notebooks/03_Widgets.ipynb) by Jake Vanderplas at the 2013 PyData conference.  "
   ]
  },
  {
   "cell_type": "code",
   "execution_count": null,
   "metadata": {
    "collapsed": false
   },
   "outputs": [],
   "source": [
    "from IPython.html import widgets # Widget definitions\n",
    "from IPython.display import display # Used to display widgets in the notebook"
   ]
  },
  {
   "cell_type": "markdown",
   "metadata": {},
   "source": [
    "### A simple slider"
   ]
  },
  {
   "cell_type": "code",
   "execution_count": null,
   "metadata": {
    "collapsed": false
   },
   "outputs": [],
   "source": [
    "mywidget = widgets.FloatSlider()\n",
    "display(mywidget)"
   ]
  },
  {
   "cell_type": "markdown",
   "metadata": {},
   "source": [
    "You can slide the slider back and forth and then \"get\" the current value from the `widget` object with:"
   ]
  },
  {
   "cell_type": "code",
   "execution_count": null,
   "metadata": {
    "collapsed": false
   },
   "outputs": [],
   "source": [
    "print mywidget.value"
   ]
  },
  {
   "cell_type": "markdown",
   "metadata": {},
   "source": [
    "Here's a variation on that where the current value is printed when the slider is moved.  Play around with it."
   ]
  },
  {
   "cell_type": "code",
   "execution_count": null,
   "metadata": {
    "collapsed": false
   },
   "outputs": [],
   "source": [
    "def on_value_change(name, value):\n",
    "    print(value)\n",
    "\n",
    "int_range = widgets.IntSlider(min=0, max=10, step=2)\n",
    "int_range.on_trait_change(on_value_change, 'value')\n",
    "display(int_range)"
   ]
  },
  {
   "cell_type": "markdown",
   "metadata": {},
   "source": [
    "You may want to handle the input provided by a widget with a handler when someone interacts with a widget and then do something.  Try this one:"
   ]
  },
  {
   "cell_type": "code",
   "execution_count": null,
   "metadata": {
    "collapsed": false
   },
   "outputs": [],
   "source": [
    "def click_handler(widget):\n",
    "    print \"clicked\"\n",
    "\n",
    "b = widgets.Button(description='Click Me!')\n",
    "b.on_click(click_handler)\n",
    "display(b)"
   ]
  },
  {
   "cell_type": "markdown",
   "metadata": {},
   "source": [
    "## Interact/Interactive"
   ]
  },
  {
   "cell_type": "markdown",
   "metadata": {},
   "source": [
    "`Interact` and `Interactive` are two other new tools that build on the widgets library to allow you to use Matplotlib to explore and visualize functions or data with varying parameters."
   ]
  },
  {
   "cell_type": "code",
   "execution_count": null,
   "metadata": {
    "collapsed": false
   },
   "outputs": [],
   "source": [
    "from IPython.html.widgets import interact, interactive"
   ]
  },
  {
   "cell_type": "markdown",
   "metadata": {},
   "source": [
    "To use them, we define a function that creates a plot which depends on the values of parameters passed to the function.  Then you can create an `interact` object with the function and specified ranges for those parameters.  The `interact` object displayed will give you sliders (`widget`s) that let you vary the input parameters and interactively see how they change the plot!"
   ]
  },
  {
   "cell_type": "markdown",
   "metadata": {},
   "source": [
    "### Linear optimizer"
   ]
  },
  {
   "cell_type": "markdown",
   "metadata": {},
   "source": [
    "Here's a first example.  We have some data with error bars that we think should follow a straight line trend.  But which straight line?  There are many different numerical algorithms for fitting a function to data to get the \"best\" optimized parameters of the function describing the data.  For this example, we will use a human optimizer to find the best parameters for the data below with an `interact` object:"
   ]
  },
  {
   "cell_type": "code",
   "execution_count": null,
   "metadata": {
    "collapsed": false
   },
   "outputs": [],
   "source": [
    "def linear_plot(m=0.5, b=27.0):\n",
    "    '''\n",
    "    Create a plot of some data that should\n",
    "    vary linearly along with a straight line\n",
    "    function with the given slope and intercept.\n",
    "    '''\n",
    "    #data to optimize\n",
    "    datax = np.array([1.0,2.0,3.0,5.0,7.0,9.0])\n",
    "    datay = np.array([10.2, 20.5, 24.8, 30.7, 33.6, 37.3])\n",
    "    erry = np.array([1.0,0.5,2.6,1.0,5.6,6.0])\n",
    "    #plot the data\n",
    "    plt.errorbar(datax,datay,xerr=0.0,yerr=erry,fmt='o')\n",
    "    #create a function to approximate the data using the slope\n",
    "    #and intercept parameters passed to the function\n",
    "    steps = 100\n",
    "    x = np.linspace(0,10.,steps)\n",
    "    y = m*x+b\n",
    "    #plot and show the result\n",
    "    plt.plot(x,y)\n",
    "    plt.xlim(0.,10.)\n",
    "    plt.ylim(0.,50.)\n",
    "    plt.show()\n",
    "\n",
    "#Create an interactive plot with sliders for varying the slope and intercept\n",
    "v = interact(linear_plot,m=(0.0,5.0), b=(0.0,50.0))"
   ]
  },
  {
   "cell_type": "markdown",
   "metadata": {},
   "source": [
    "**Spend a few minutes trying to find the \"best fit\" line to this data and record the corresponding slope and intercept values for that line here.**"
   ]
  },
  {
   "cell_type": "code",
   "execution_count": null,
   "metadata": {
    "collapsed": true
   },
   "outputs": [],
   "source": [
    "#Human optimizer results\n",
    "#Best slope (m):\n",
    "#Best y-intercept (b):"
   ]
  },
  {
   "cell_type": "markdown",
   "metadata": {},
   "source": [
    "### Random scatter"
   ]
  },
  {
   "cell_type": "markdown",
   "metadata": {},
   "source": [
    "Here's another interactive plot that allows you to randomly sample (x,y) pairs within a circle of radius $r$.  The interact object lets you increase or decrease the number of samples in the circle."
   ]
  },
  {
   "cell_type": "code",
   "execution_count": null,
   "metadata": {
    "collapsed": false
   },
   "outputs": [],
   "source": [
    "def scatter_plot(r=0.5, n=27):\n",
    "    t = np.random.uniform(0.0,2.0*np.pi,n)\n",
    "    rad = r*np.sqrt(np.random.uniform(0.0,1.0,n))\n",
    "    x = np.empty(n)\n",
    "    y = np.empty(n)\n",
    "    x = rad*np.cos(t)\n",
    "    y = rad*np.sin(t)\n",
    "    fig = plt.figure(figsize=(4,4),dpi=80)\n",
    "    plt.scatter(x,y)\n",
    "    plt.xlim(-1.,1.)\n",
    "    plt.ylim(-1.,1.)\n",
    "    plt.show()\n",
    "    \n",
    "v2 = interact(scatter_plot,r=(0.0,1.0), n=(1,1000))"
   ]
  },
  {
   "cell_type": "markdown",
   "metadata": {},
   "source": [
    "### Sinusoids"
   ]
  },
  {
   "cell_type": "markdown",
   "metadata": {},
   "source": [
    "Here is an example with two sine curves - one is a pure sine wave, the other is the superposition of two waves with different frequency but the same amplitude."
   ]
  },
  {
   "cell_type": "code",
   "execution_count": null,
   "metadata": {
    "collapsed": false
   },
   "outputs": [],
   "source": [
    "def sin_plot(A=5.0,f1=5.0,f2=10.):\n",
    "    x = np.linspace(0,2*np.pi,1000)\n",
    "    #pure sine curve\n",
    "    y = A*np.sin(f1*x)\n",
    "    #superposition of sine curves with different frequency\n",
    "    #but same amplitude\n",
    "    y2 = A*(np.sin(f1*x)+np.sin(f2*x))\n",
    "    plt.plot(x,y,x,y2)\n",
    "    plt.xlim(0.,2.*np.pi)\n",
    "    plt.ylim(-10.,10.)\n",
    "    plt.grid()\n",
    "    plt.show()\n",
    "    \n",
    "v3 = interact(sin_plot,A=(0.,10.), f1=(1.0,10.0), f2=(1.0,10.0))"
   ]
  },
  {
   "cell_type": "markdown",
   "metadata": {},
   "source": [
    "###Exercise"
   ]
  },
  {
   "cell_type": "markdown",
   "metadata": {
    "collapsed": true
   },
   "source": [
    "Now set up your own interactive plot.  Try creating two curves - one a cosine curve with varying phase: $f(x) = \\cos(x+a)$ and one a pure sine curve: $g(x) = \\sin(x)$.  Let the phase angle $a$ be the parameter that varies and plot the two functions $f(x)$ and $g(x)$ from 0 to 2$\\pi$.  Use the slider to determine for what values of the phase angle $a$ the two curves exactly overlap."
   ]
  },
  {
   "cell_type": "code",
   "execution_count": 1,
   "metadata": {
    "collapsed": true
   },
   "outputs": [],
   "source": [
    "#Your code here"
   ]
  },
  {
   "cell_type": "markdown",
   "metadata": {},
   "source": [
    "### Lissajous Curves"
   ]
  },
  {
   "cell_type": "markdown",
   "metadata": {},
   "source": [
    "This one is a little more complicated.  Here we have a parametric plot.  We have two sinusoids, one in the $x$ direction and one in the $y$ direction, that both depend on a third parameter $t$.  We can set up the $t$ array and compute the values for $x$ and $y$ from their functional dependence on $t$, then plot $y$ vs. $x$.  The result when the two curves are sinusoidal is known as a [Lissajous](http://en.wikipedia.org/wiki/Lissajous_curve) curve, which forms interesting patterns when the combination of parameters are related in particular ways."
   ]
  },
  {
   "cell_type": "code",
   "execution_count": null,
   "metadata": {
    "collapsed": false
   },
   "outputs": [],
   "source": [
    "def lissajous_plot(a1=0.5,f1=1.,p1=0.,a2=0.5,f2=1.,p2=0.):\n",
    "    t = np.linspace(0, 20*np.pi, 5000)\n",
    "    x = a1*np.sin(f1*(t+p1))\n",
    "    y = a2*np.cos(f2*(t+p2))\n",
    "    plt.plot(x,y)\n",
    "    plt.xlim(-1.,1.)\n",
    "    plt.ylim(-1.,1.)\n",
    "    plt.show()\n",
    "    \n",
    "v4 = interact(lissajous_plot,a1=(0.,1.), f1=(1.0,4.0), p1=(0.,2*np.pi),\n",
    "                 a2=(0.,1.),f2=(1.0,4.0),p2=(0.,2*np.pi))"
   ]
  },
  {
   "cell_type": "markdown",
   "metadata": {},
   "source": [
    "Try playing with the curves by adjusting the sliders to make interesting patterns.\n",
    "\n",
    "**Record three parameter combinations that lead to interesting shapes, then create new static plots in other cells to show what they look like.**"
   ]
  },
  {
   "cell_type": "markdown",
   "metadata": {},
   "source": [
    "---"
   ]
  }
 ],
 "metadata": {
  "kernelspec": {
   "display_name": "Python 2",
   "language": "python",
   "name": "python2"
  },
  "language_info": {
   "codemirror_mode": {
    "name": "ipython",
    "version": 2
   },
   "file_extension": ".py",
   "mimetype": "text/x-python",
   "name": "python",
   "nbconvert_exporter": "python",
   "pygments_lexer": "ipython2",
   "version": "2.7.9"
  }
 },
 "nbformat": 4,
 "nbformat_minor": 0
}
