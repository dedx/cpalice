{
 "cells": [
  {
   "cell_type": "markdown",
   "metadata": {},
   "source": [
    "# 05 Linear fits to some data"
   ]
  },
  {
   "cell_type": "markdown",
   "metadata": {},
   "source": [
    "When you have a set of data that you would like to fit with some theoretical curve, you can use the SciPy optimize library to do it.  When your data is linear or a subset of the data is linear, you can use a straight line fit.  Here is an example of fitting a straight line to a portion of a sine curve."
   ]
  },
  {
   "cell_type": "code",
   "execution_count": null,
   "metadata": {
    "collapsed": true
   },
   "outputs": [],
   "source": [
    "%pylab inline\n",
    "import numpy as np\n",
    "import matplotlib.pyplot as plt\n",
    "#Import the curve fitter from the scipy optimize package\n",
    "from scipy.optimize import curve_fit"
   ]
  },
  {
   "cell_type": "markdown",
   "metadata": {},
   "source": [
    "Create an array of points that represent a sine curve between 0 and 2$\\pi$."
   ]
  },
  {
   "cell_type": "code",
   "execution_count": null,
   "metadata": {
    "collapsed": true
   },
   "outputs": [],
   "source": [
    "#create the data to be plotted\n",
    "x = np.linspace(0, 2*np.pi, 300)\n",
    "y = np.sin(x)"
   ]
  },
  {
   "cell_type": "markdown",
   "metadata": {},
   "source": [
    "Plot the data over the full range as a dashed line and then overlay the section of the data that looks roughly linear, which we will try to fit with a straight line."
   ]
  },
  {
   "cell_type": "code",
   "execution_count": null,
   "metadata": {
    "collapsed": true
   },
   "outputs": [],
   "source": [
    "#Now plot it\n",
    "plt.plot(x,y,'b--')\n",
    "plt.plot(x[110:180], y[110:180]) #subset of points that we will fit\n",
    "plt.show()"
   ]
  },
  {
   "cell_type": "markdown",
   "metadata": {},
   "source": [
    "We need to define the function that we will try to fit to this data.  In this example, we will use the equation for a straight line, which has two parameters, the slope $m$ and the y-intercept $b$."
   ]
  },
  {
   "cell_type": "code",
   "execution_count": null,
   "metadata": {
    "collapsed": true
   },
   "outputs": [],
   "source": [
    "#Define the fit function\n",
    "def func(x, m, b):\n",
    "    return (m*x + b)"
   ]
  },
  {
   "cell_type": "markdown",
   "metadata": {},
   "source": [
    "Before we can fit the data we need to make an initial guess at the slope and y-intercept which we can pass to the optimizer.  It will start with those values and then keep trying small variations on those values until it minimizes the linear least squared difference between the data points we are trying to fit and points on the line described by those parameters.  \n",
    "\n",
    "Looking at the graph, the top-left of the solid blue curve will probably hit around $y$ = 2 when $x$ = 0 (the y-intercept).  The slope is negative (decreasing y for increasing x) in the region we are fitting and it looks like the \"rise\" in $y$ (really it's a drop) over the \"run\" in $x$ appears to be about 1.  Here's the parameter array we will pass to the optimizer.  The order of the parameters has to match the order that they are called in the function we defined (`func`) so the slope comes first."
   ]
  },
  {
   "cell_type": "code",
   "execution_count": null,
   "metadata": {
    "collapsed": true
   },
   "outputs": [],
   "source": [
    "# Make initial guess at parameters, slope then y-intercept\n",
    "p0 = [-1.0, 2.0]"
   ]
  },
  {
   "cell_type": "markdown",
   "metadata": {},
   "source": [
    "Now call the optimizer.  It will return two arrays.  The first is the set of optimized parameters and the second is a matrix that shows the covariance between the parameters.  Don't worry about the details of the covariance matrix for now."
   ]
  },
  {
   "cell_type": "code",
   "execution_count": null,
   "metadata": {
    "collapsed": true
   },
   "outputs": [],
   "source": [
    "#Call the curve fitter and have it return the optimized parameters (popt) and covariance matrix (pcov)\n",
    "popt, pcov = curve_fit(func, x[110:180], y[110:180], p0)"
   ]
  },
  {
   "cell_type": "markdown",
   "metadata": {},
   "source": [
    "The diagonal elements of the covariance matrix are related to the uncertainties in the optimized fit parameters - they are the square of the uncertainties, actually.  Any off-diagonal elements that are non-zero tell you how correlated the parameters are.  Values close to zero mean the parameters are totally uncorrelated to one another.  Values close to one tell you that the parameters are tightly correlated, meaning that changing the value of one of them makes the value of the other one change by a lot.  In the case of a linear fit, changing the slope of the line will change where that line intersects the y-axis, so you would expect a high degree of correlation between the slope and the y-intercept.  When you are trying to understand how well a theoretical model matches data and extract parameters with some physical meaning, analyzing the covariance matrix if very important.  For now, we just want the best-fit parameters and their uncertainties."
   ]
  },
  {
   "cell_type": "code",
   "execution_count": null,
   "metadata": {
    "collapsed": true
   },
   "outputs": [],
   "source": [
    "#Compute the parameter uncertainties from the covariance matrix\n",
    "punc = np.zeros(len(popt))\n",
    "for i in np.arange(0,len(popt)):\n",
    "    punc[i] = np.sqrt(pcov[i,i])\n",
    "\n",
    "#Print the result\n",
    "print \"optimal parameters: \", popt\n",
    "print \"uncertainties of parameters: \", punc"
   ]
  },
  {
   "cell_type": "markdown",
   "metadata": {},
   "source": [
    "Let's look at how the fit compares to the data by plotting them on top of one another.  The `fitresult` array extends over the full range in x.  You can see that a linear fit in the range of interest is pretty good, but it deviates quite significantly from the data (the sine curve) oustide that range."
   ]
  },
  {
   "cell_type": "code",
   "execution_count": null,
   "metadata": {
    "collapsed": true
   },
   "outputs": [],
   "source": [
    "#plot the fit result with the data\n",
    "fitresult = func(x,popt[0],popt[1])\n",
    "\n",
    "plt.plot(x,y,'b--',label=\"data\")\n",
    "plt.plot(x,fitresult,'g',label=\"fit\")\n",
    "plt.legend(loc=\"best\")\n",
    "plt.show()"
   ]
  },
  {
   "cell_type": "code",
   "execution_count": null,
   "metadata": {
    "collapsed": true
   },
   "outputs": [],
   "source": []
  }
 ],
 "metadata": {
  "kernelspec": {
   "display_name": "Python 2",
   "language": "python",
   "name": "python2"
  },
  "language_info": {
   "codemirror_mode": {
    "name": "ipython",
    "version": 2
   },
   "file_extension": ".py",
   "mimetype": "text/x-python",
   "name": "python",
   "nbconvert_exporter": "python",
   "pygments_lexer": "ipython2",
   "version": "2.7.12"
  }
 },
 "nbformat": 4,
 "nbformat_minor": 1
}
