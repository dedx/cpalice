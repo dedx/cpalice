{
 "cells": [
  {
   "cell_type": "markdown",
   "metadata": {},
   "source": [
    "# 02 Graphics"
   ]
  },
  {
   "cell_type": "markdown",
   "metadata": {},
   "source": [
    "Some of this tour is modeled on the Matplotlib [pyplot tutorial](http://matplotlib.org/users/pyplot_tutorial.html), the [SciPy lecture notes on plotting](https://scipy-lectures.github.io/intro/matplotlib/matplotlib.html), Jake Vanderplas' [Matplotlib Intro](http://nbviewer.ipython.org/github/jakevdp/2013_fall_ASTR599/tree/master/http://nbviewer.ipython.org/github/jakevdp/2013_fall_ASTR599/blob/master/notebooks/06_MatplotlibIntro.ipynb) and the [Software Carpentry Bootcamp lesson](http://nbviewer.ipython.org/github/swcarpentry/2012-11-scripps/blob/master/python/matplotlib-full.ipynb) on Matplotlib."
   ]
  },
  {
   "cell_type": "markdown",
   "metadata": {},
   "source": [
    "---"
   ]
  },
  {
   "cell_type": "markdown",
   "metadata": {},
   "source": [
    "## Matplotlib"
   ]
  },
  {
   "cell_type": "markdown",
   "metadata": {},
   "source": [
    "Matplotlib is probably the single most used Python package for 2D-graphics. It provides both a very quick way to visualize data from Python and publication-quality figures in many formats.  \n",
    "\n",
    "This notebook will provide a brief summary of the most important aspects of Matplotlib for our work, but you are encouraged to explore the extensive [documentation](http://matplotlib.org/contents.html) for the library and in particular, the [gallery](http://matplotlib.org/gallery.html) of plots.  \n",
    "\n",
    "No one can keep all of the functions and fine layout control commands in their brain.  Often when I need to make a plot, I go to the gallery page and browse the images until I find one that is similar to what I want to create and then I copy the code and modify it to suit my needs.  You are encouraged to do the same."
   ]
  },
  {
   "cell_type": "markdown",
   "metadata": {},
   "source": [
    "## Importing the library"
   ]
  },
  {
   "cell_type": "markdown",
   "metadata": {},
   "source": [
    "To import the parts of Matplotlib that we will need, we use"
   ]
  },
  {
   "cell_type": "code",
   "execution_count": null,
   "metadata": {
    "collapsed": false
   },
   "outputs": [],
   "source": [
    "# In iPython or the iPython notebook, it's easiest to use the pylab magic, which\n",
    "# imports matplotlib, numpy, and scipy.\n",
    "\n",
    "# The inline flag means that images will be shown here in the notebooks, rather\n",
    "# than in pop-up windows.\n",
    "\n",
    "%pylab inline\n",
    "\n",
    "# If you are using 'regular' Python, however, you'll want the following. You'll\n",
    "# need to also separately import numpy and any other packages that you might need.\n",
    "\n",
    "import matplotlib.pyplot as plt\n",
    "import numpy as np"
   ]
  },
  {
   "cell_type": "markdown",
   "metadata": {},
   "source": [
    "## Creating figures"
   ]
  },
  {
   "cell_type": "markdown",
   "metadata": {},
   "source": [
    "There are two major challenges with creating figures. First is understanding the syntax to actually make the basic plot appear. Second is formatting the basic plot to look exactly how you would like it to look. **In general, the formatting will probably take you longer...**\n",
    "\n",
    "Within Matplotlib's `pyplot` module (currently imported as '`plt`'), there are two basic ways to go about making plots - using the Matlab-like clone, and using the object-oriented approach. The latter provides better control over plot features, while only requiring slightly more typing.  The Matlab-clone syntax is good for quick and dirty, fast and simple plotting, while the object-oriented syntax is better for refining your plots to make them \"publication-ready\".\n",
    "We will use a little bit of both here.  \n",
    "\n",
    "**Note:** When you look at the source code from the Matplotlib gallery, the examples will mostly be using the object-oriented syntax."
   ]
  },
  {
   "cell_type": "markdown",
   "metadata": {},
   "source": [
    "## Simple Plots"
   ]
  },
  {
   "cell_type": "markdown",
   "metadata": {},
   "source": [
    "Here is an example of creating a simple plot of two functions.  To plot a function, we need to create a NumPy array for the independent variable ($x$) and then set the dependent variable ($y = f(x)$) by using NumPy's built-in functions.  "
   ]
  },
  {
   "cell_type": "code",
   "execution_count": null,
   "metadata": {
    "collapsed": false
   },
   "outputs": [],
   "source": [
    "#create the data to be plotted\n",
    "x = np.linspace(0, 2*np.pi, 300)\n",
    "y = np.sin(x)\n",
    "y2 = np.sin(x**2)"
   ]
  },
  {
   "cell_type": "markdown",
   "metadata": {},
   "source": [
    "In this case, `x` is now a NumPy array with 300 values ranging from 0 to 2$\\pi$ (included). `y` is the sine (array of 300 values) and `y2` is the square of the sine (array of 300 values) at each of those 300 `x` values."
   ]
  },
  {
   "cell_type": "code",
   "execution_count": null,
   "metadata": {
    "collapsed": false
   },
   "outputs": [],
   "source": [
    "#Now plot it\n",
    "plt.plot(x, y) \n",
    "plt.plot(x, y2)\n",
    "plt.show()"
   ]
  },
  {
   "cell_type": "markdown",
   "metadata": {},
   "source": [
    "What this plot lacks is important information about what is in it - there are no axis labels, no legend telling us what is different about blue vs. green, and the size of the font on the axis labels is a bit small.  We should probably try to improve the plot's readability so other people viewing it will understand what we are trying to convey."
   ]
  },
  {
   "cell_type": "markdown",
   "metadata": {},
   "source": [
    "**Font size for labels is especially important when you are creating plots for inclusion in a slide presentation.** If your labels are too small for the audience to read, you will quickly lose their attention.  \n",
    "\n",
    "**Our demos during the final exam are a perfect place to practice creating readable plots.  Grading of the demos will include an evaluation of how well information is presented, including readability of plots.**\n"
   ]
  },
  {
   "cell_type": "markdown",
   "metadata": {},
   "source": [
    "We'll explore some of the capabilities in Matplotlib for refining how our data is presented graphically below, but first, we'll look at a couple more simple tricks."
   ]
  },
  {
   "cell_type": "markdown",
   "metadata": {},
   "source": [
    "You can control the style, color and other properties of the markers, for example:"
   ]
  },
  {
   "cell_type": "code",
   "execution_count": null,
   "metadata": {
    "collapsed": false
   },
   "outputs": [],
   "source": [
    "plt.plot(x, y, linewidth=2);\n",
    "plt.plot(x, y2, linewidth=2);"
   ]
  },
  {
   "cell_type": "code",
   "execution_count": null,
   "metadata": {
    "collapsed": false
   },
   "outputs": [],
   "source": [
    "#decrease the number of points to illustrate the use of markers\n",
    "x = np.linspace(0, 2*np.pi, 50)\n",
    "y = np.sin(x)\n",
    "y2 = np.cos(x)\n",
    "plt.plot(x, y, 'o', markersize=5, color='r');\n",
    "plt.plot(x, y2, '^', markersize=5, color='b');"
   ]
  },
  {
   "cell_type": "markdown",
   "metadata": {},
   "source": [
    "See the Matplotlib [line style demo](http://matplotlib.org/examples/pylab_examples/line_styles.html) to view the different types of line styles you can choose from.  The source code is a little \"slick\", though, so it may not be obvious to you how the markers are set in that example."
   ]
  },
  {
   "cell_type": "markdown",
   "metadata": {},
   "source": [
    "## Saving a figure"
   ]
  },
  {
   "cell_type": "markdown",
   "metadata": {},
   "source": [
    "To save a figure in a standard format such as `png`, `jpg` or `pdf`, just call the `savefig` method with a filename that includes the extension for the type of file you wish to create:"
   ]
  },
  {
   "cell_type": "code",
   "execution_count": null,
   "metadata": {
    "collapsed": false
   },
   "outputs": [],
   "source": [
    "#back to our original data\n",
    "x = np.linspace(0, 2*np.pi, 300)\n",
    "y = np.sin(x)\n",
    "y2 = np.sin(x**2)\n",
    "\n",
    "plt.plot(x, y)\n",
    "plt.plot(x, y2)\n",
    "\n",
    "#add a grid\n",
    "plt.grid()\n",
    "\n",
    "plt.savefig(\"Example.pdf\")\n",
    "plt.savefig(\"Example.png\")"
   ]
  },
  {
   "cell_type": "markdown",
   "metadata": {},
   "source": [
    "## Refining our plots"
   ]
  },
  {
   "cell_type": "markdown",
   "metadata": {},
   "source": [
    "Now that we've seen how to create some data and plot it, we'll iteratively improve on the look of the plots as we explore features of Matplotlib.  Start with something simple: draw the cosine/sine functions."
   ]
  },
  {
   "cell_type": "code",
   "execution_count": null,
   "metadata": {
    "collapsed": false
   },
   "outputs": [],
   "source": [
    "#create the data\n",
    "x = np.linspace(-np.pi, np.pi, 56, endpoint=True)\n",
    "c, s = np.cos(x), np.sin(x)"
   ]
  },
  {
   "cell_type": "code",
   "execution_count": null,
   "metadata": {
    "collapsed": false
   },
   "outputs": [],
   "source": [
    "plt.plot(x, c)\n",
    "plt.plot(x, s)\n",
    "plt.show()"
   ]
  },
  {
   "cell_type": "markdown",
   "metadata": {},
   "source": [
    "Matplotlib comes with a set of default settings that allow customizing all kinds of properties. You can control the defaults of almost every property with Matplotlib: figure size and dpi, line width, color and style, axes, axis and grid properties, text and font properties and so on."
   ]
  },
  {
   "cell_type": "markdown",
   "metadata": {},
   "source": [
    "We can explicitly set all of the parameters that define the plot when we create it.  Here are the default settings, explicitly shown.  \n",
    "\n",
    "**Play around with them to see how they change the look of the plot.**"
   ]
  },
  {
   "cell_type": "code",
   "execution_count": null,
   "metadata": {
    "collapsed": false
   },
   "outputs": [],
   "source": [
    "# Create a figure of size 8x6 points, 80 dots per inch\n",
    "plt.figure(figsize=(8, 6), dpi=80)\n",
    "\n",
    "# Create a new subplot from a grid of 1x1\n",
    "plt.subplot(1, 1, 1)\n",
    "\n",
    "# Plot cosine with a blue continuous line of width 1 (pixels)\n",
    "plt.plot(x, c, color=\"blue\", linewidth=1.0, linestyle=\"-\",label=\"cosine\")\n",
    "\n",
    "# Plot sine with a green continuous line of width 1 (pixels)\n",
    "plt.plot(x, s, color=\"green\", linewidth=1.0, linestyle=\"-\",label=\"sine\")\n",
    "\n",
    "# Set x limits\n",
    "plt.xlim(-4.0, 4.0)\n",
    "\n",
    "# Set x ticks\n",
    "plt.xticks(np.linspace(-4, 4, 9, endpoint=True))\n",
    "\n",
    "# Set y limits\n",
    "plt.ylim(-1.0, 1.0)\n",
    "\n",
    "# Set y ticks\n",
    "plt.yticks(np.linspace(-1, 1, 5, endpoint=True))\n",
    "\n",
    "# Add axis labels, setting a readable font size\n",
    "plt.xlabel(\"x (rad)\",fontsize=15)\n",
    "plt.ylabel(\"sin,cos\",fontsize=15)\n",
    "\n",
    "# Add a legend\n",
    "plt.legend(loc='upper left')\n",
    "\n",
    "# Save figure using 72 dots per inch\n",
    "plt.savefig(\"plot_example.png\", dpi=72)\n",
    "\n",
    "# Show result on screen\n",
    "plt.show()"
   ]
  },
  {
   "cell_type": "markdown",
   "metadata": {},
   "source": [
    "That's a pretty nicely formatted figure, ready for publication or presentation.  Lines are thick enough to see and distinguishable even in black and white, and the legend and labels are also large enough to read easily.  Axis labels would also generally be wise to include, but in this case they are implicit from the legend and the values on the axes."
   ]
  },
  {
   "cell_type": "markdown",
   "metadata": {},
   "source": [
    "###Exercise 1"
   ]
  },
  {
   "cell_type": "markdown",
   "metadata": {
    "collapsed": true
   },
   "source": [
    "Try to create a plot that matches the one you see below.  The function that is plotted in blue is $ y(x) = 5\\cos(x) - \\frac{1}{2}\\sqrt{x}$.\n",
    "\n",
    "<img src = \"02_Exercise1.png\">"
   ]
  },
  {
   "cell_type": "code",
   "execution_count": null,
   "metadata": {
    "collapsed": false
   },
   "outputs": [],
   "source": [
    "#your code here"
   ]
  },
  {
   "cell_type": "markdown",
   "metadata": {},
   "source": [
    "---"
   ]
  },
  {
   "cell_type": "markdown",
   "metadata": {},
   "source": [
    "## Other types of plots"
   ]
  },
  {
   "cell_type": "markdown",
   "metadata": {},
   "source": [
    "In the example above, we used the `plot` method to make line plots. There are also methods to make scatter plots, barplots, histograms, loglog plots, semilog plots, etc."
   ]
  },
  {
   "cell_type": "markdown",
   "metadata": {},
   "source": [
    "### Errorbars"
   ]
  },
  {
   "cell_type": "markdown",
   "metadata": {},
   "source": [
    "For data you might collect in the laboratory, you want to show the uncertainties on your data points."
   ]
  },
  {
   "cell_type": "code",
   "execution_count": null,
   "metadata": {
    "collapsed": false
   },
   "outputs": [],
   "source": [
    "#Simple constant error bars on each point\n",
    "x = np.array([0.0, 2.0, 4.0, 6.0, 8.0])\n",
    "y = np.array([1.1, 1.9, 3.2, 4.0, 5.9])\n",
    "plt.figure()\n",
    "plt.errorbar(x, y, xerr=0.2, yerr=0.6, marker='o')\n",
    "plt.title(\"Simplest errorbars, 0.2 in x, 0.6 in y\");"
   ]
  },
  {
   "cell_type": "markdown",
   "metadata": {},
   "source": [
    "Perhaps your error bars vary from point to point:"
   ]
  },
  {
   "cell_type": "code",
   "execution_count": null,
   "metadata": {
    "collapsed": false
   },
   "outputs": [],
   "source": [
    "# example data\n",
    "x = np.arange(0.1, 4, 0.5)\n",
    "y = np.exp(-x)\n",
    "\n",
    "# example variable error bar values\n",
    "yerr = 0.1 + 0.2*np.sqrt(x)\n",
    "xerr = 0.1 + yerr\n",
    "\n",
    "plt.figure()\n",
    "plt.errorbar(x, y, xerr, yerr, marker='^')\n",
    "plt.show()"
   ]
  },
  {
   "cell_type": "markdown",
   "metadata": {},
   "source": [
    "### Subplots and Logarithmic axes"
   ]
  },
  {
   "cell_type": "markdown",
   "metadata": {},
   "source": [
    "You may wish to have the axes plot on a logarithmic scale.  There are two ways to do this: \"log-log\" or \"semilog\", where only one axis is in log scale.  To simplify the presentation of the different options, we will also divide our figure up into four subplots. Have a look at each possibility:"
   ]
  },
  {
   "cell_type": "code",
   "execution_count": null,
   "metadata": {
    "collapsed": false
   },
   "outputs": [],
   "source": [
    "x = np.linspace(0., 5.)\n",
    "y = np.exp(-x)\n",
    "\n",
    "#Make a figure with 4 subplots and axes side-by-side\n",
    "fig, ax = plt.subplots(1,4, figsize=(10,6))\n",
    "\n",
    "#Plot on each axis\n",
    "ax[0].plot(x,y)\n",
    "ax[1].loglog(x,y)\n",
    "ax[2].semilogx(x,y)\n",
    "ax[3].semilogy(x,y);\n"
   ]
  },
  {
   "cell_type": "markdown",
   "metadata": {},
   "source": [
    "Recall that an exponential function plotted in `semilogy` is a straight line!"
   ]
  },
  {
   "cell_type": "markdown",
   "metadata": {},
   "source": [
    "### Scatter plots"
   ]
  },
  {
   "cell_type": "markdown",
   "metadata": {},
   "source": [
    "For sparse data, sometimes you want to see the values plotted as a scatter plot of `y` vs. `x`:"
   ]
  },
  {
   "cell_type": "code",
   "execution_count": null,
   "metadata": {
    "collapsed": false
   },
   "outputs": [],
   "source": [
    "# Make some data to plot\n",
    "x = np.arange(0, 100)\n",
    "y = np.random.rand(100)  # 100 random numbers\n",
    "\n",
    "plt.scatter(x,y);"
   ]
  },
  {
   "cell_type": "markdown",
   "metadata": {},
   "source": [
    "### Histograms"
   ]
  },
  {
   "cell_type": "markdown",
   "metadata": {},
   "source": [
    "Histograms are a class of plot that allow you to present information on the frequency of a particular value occuring in a distribution of events.  They are used universally in many fields of science, physics included.\n",
    "\n",
    "Here is the [wikipedia definition](http://en.wikipedia.org/wiki/Histogram):\n",
    "\n",
    ">A histogram is a representation of tabulated frequencies, shown as adjacent rectangles, erected over discrete intervals (bins), with an area proportional to the frequency of the observations in the interval. The height of a rectangle is also equal to the frequency density of the interval, i.e., the frequency divided by the width of the interval. The total area of the histogram is equal to the number of data. A histogram may also be normalized displaying relative frequencies. It then shows the proportion of cases that fall into each of several categories, with the total area equaling 1. The categories are usually specified as consecutive, non-overlapping intervals of a variable. The categories (intervals) must be adjacent, and often are chosen to be of the same size. The rectangles of a histogram are drawn so that they touch each other to indicate that the original variable is continuous.\n"
   ]
  },
  {
   "cell_type": "markdown",
   "metadata": {},
   "source": [
    "Here is an example histogram annotated with text inside the plot, using the `text` function:"
   ]
  },
  {
   "cell_type": "code",
   "execution_count": null,
   "metadata": {
    "collapsed": false
   },
   "outputs": [],
   "source": [
    "mu, sigma = 100, 15\n",
    "x = mu + sigma * np.random.randn(10000)\n",
    "\n",
    "# the histogram of the data\n",
    "n, bins, patches = plt.hist(x, 50, normed=1, facecolor='g', alpha=0.75)\n",
    "\n",
    "plt.xlabel('Smarts',fontsize=20)\n",
    "plt.ylabel('Probability',fontsize=20)\n",
    "plt.title('Histogram of IQ',fontsize=20)\n",
    "\n",
    "# This will put a text fragment at the position given:\n",
    "plt.text(45, .027, r'$\\mu=100,\\ \\sigma=15$', fontsize=20)\n",
    "plt.axis([40, 160, 0, 0.03])\n",
    "plt.xticks(fontsize=20)\n",
    "plt.yticks(fontsize=20)\n",
    "plt.grid();"
   ]
  },
  {
   "cell_type": "markdown",
   "metadata": {},
   "source": [
    "The number of bins was set at 50 in the second argument of `plt.hist`.  The area is normalized to 1, so the values on the `y` axis are fractions that will add up to 1 if all of the green bars are added together.  The `alpha` parameter sets the transparency of the fill color.  \n",
    "\n",
    "**Play with the settings a little bit to see how they change the look of the plot.**"
   ]
  },
  {
   "cell_type": "markdown",
   "metadata": {},
   "source": [
    "###Exercise 2"
   ]
  },
  {
   "cell_type": "markdown",
   "metadata": {},
   "source": [
    "Make a NumPy array of 1000 normally distributed (bell curve) values with a mean of 42 and a variance (width) of 7.  Then plot a histogram of the values in 42 bins with the color of the bins being a transparent blue.  An example is provided but your plot will look slightly different because our arrays will be different.\n",
    "\n",
    "<img src=\"02_Exercise2.png\">"
   ]
  },
  {
   "cell_type": "code",
   "execution_count": null,
   "metadata": {
    "collapsed": true
   },
   "outputs": [],
   "source": [
    "#Your code here"
   ]
  },
  {
   "cell_type": "markdown",
   "metadata": {
    "collapsed": true
   },
   "source": [
    "---"
   ]
  },
  {
   "cell_type": "markdown",
   "metadata": {},
   "source": [
    "## Loading examples from the Matplotlib gallery"
   ]
  },
  {
   "cell_type": "markdown",
   "metadata": {},
   "source": [
    "When you use the Matplotlib gallery to template a figure, you can very easily load the source code into your notebook and then modify it as needed to fit your specific needs.  Try it now.  After the code is loaded, just execute the cell to see the output."
   ]
  },
  {
   "cell_type": "code",
   "execution_count": null,
   "metadata": {
    "collapsed": false
   },
   "outputs": [],
   "source": [
    "# Try it here...\n",
    "%loadpy http://matplotlib.org/mpl_examples/pylab_examples/contour_demo.py"
   ]
  },
  {
   "cell_type": "markdown",
   "metadata": {},
   "source": [
    "## Common formatting tricks"
   ]
  },
  {
   "cell_type": "markdown",
   "metadata": {},
   "source": [
    "There are hundreds of formatting options available in Matplotlib, many of which you will end up using occasionally. There are a few options, however, that you will use very frequently. Here's a short list...\n",
    "\n",
    "* Changing axis limits\n",
    "* Changing line colors\n",
    "* Changing lines to dashed (for black and white figures)\n",
    "* Adding markers to lines\n",
    "* Make tick labels point outward instead of inward\n",
    "* Get rid of the box surrounding the plot\n",
    "* Adding subplot letters, like (a) and (b)\n",
    "\n",
    "...and some examples for how to accomplish all of these things."
   ]
  },
  {
   "cell_type": "code",
   "execution_count": null,
   "metadata": {
    "collapsed": false
   },
   "outputs": [],
   "source": [
    "# Make some data to plot\n",
    "x = np.linspace(0, 2*np.pi)\n",
    "y1 = np.sin(x)\n",
    "y2 = np.cos(x)\n",
    "\n",
    "# First, create an empty figure with 1 subplot\n",
    "fig, ax1 = plt.subplots(1, 1)\n",
    "\n",
    "# Add title and labels\n",
    "ax1.set_title('My Plot',fontsize=20)\n",
    "ax1.set_xlabel('x',fontsize=20)\n",
    "ax1.set_ylabel('y',fontsize=20)\n",
    "\n",
    "# Change axis limits\n",
    "ax1.set_xlim([0,2])\n",
    "ax1.set_ylim([-1, 2])\n",
    "\n",
    "# Add the lines, changing their color, style, and marker\n",
    "ax1.plot(x, y1, 'k--o', label='sin') # Black line, dashed, with 'o' markers\n",
    "ax1.plot(x, y2, 'r-^', label='cos') # Red line, solid, with triangle-up markers\n",
    "\n",
    "# Adjust tick marks and get rid of 'box'\n",
    "ax1.tick_params(direction='out', top=False, right=False) # Turn ticks out\n",
    "ax1.spines['top'].set_visible(False) # Get rid of top axis line\n",
    "ax1.spines['right'].set_visible(False) #  Get rid of bottom axis line\n",
    "\n",
    "# Add subplot letter\n",
    "ax1.annotate('(a)', (0.01, 0.96), size=12, xycoords='figure fraction')\n",
    "\n",
    "# Add legend\n",
    "ax1.legend()\n",
    "\n",
    "# Finally, save the figure as a png file\n",
    "fig.savefig('myfig-formatted.png')"
   ]
  },
  {
   "cell_type": "markdown",
   "metadata": {},
   "source": [
    "---"
   ]
  }
 ],
 "metadata": {
  "kernelspec": {
   "display_name": "Python 2",
   "language": "python",
   "name": "python2"
  },
  "language_info": {
   "codemirror_mode": {
    "name": "ipython",
    "version": 2
   },
   "file_extension": ".py",
   "mimetype": "text/x-python",
   "name": "python",
   "nbconvert_exporter": "python",
   "pygments_lexer": "ipython2",
   "version": "2.7.9"
  }
 },
 "nbformat": 4,
 "nbformat_minor": 0
}
