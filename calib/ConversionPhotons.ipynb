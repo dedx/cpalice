{
 "cells": [
  {
   "cell_type": "markdown",
   "metadata": {},
   "source": [
    "#Conversion Photon Investigation"
   ]
  },
  {
   "cell_type": "markdown",
   "metadata": {},
   "source": [
    "ALICE's electromagnetic calorimeter (EMCal) is designed to measure the deposited energy from photons and electrons (and positrons) produced in heavy ion collisions at the CERN Large Hadron Collider.  Most of the photons and electrons the EMCal sees are from the [decay of neutral pions ($\\pi^0$)](http://pdg.lbl.gov/2014/tables/rpp2014-sum-mesons.pdf), which decay very rapidly after they are created. "
   ]
  },
  {
   "cell_type": "markdown",
   "metadata": {},
   "source": [
    "**Q1: What is the most common decay method for the $\\pi^0$?  What is their mean lifetime? (Use the Particle Data Group info to answer these questions).**"
   ]
  },
  {
   "cell_type": "code",
   "execution_count": null,
   "metadata": {
    "collapsed": true
   },
   "outputs": [],
   "source": []
  },
  {
   "cell_type": "markdown",
   "metadata": {},
   "source": [
    "Particles created in heavy ion collisions at the LHC travel at relativistic speeds, which means the particles obey the kinematic relations described by Einstein's special theory of relativity.  The equations for the momentum ($p$), energy ($E$), and velocity ($u$) of a relativistic particle of mass $m$ that travels a distance $d$ in time $t$ are\n",
    "\n",
    "$$u = d/t$$\n",
    "\n",
    "$$\\gamma = \\frac{1}{\\sqrt{1-(u/c)^2}}$$ \n",
    "\n",
    "$$p = \\gamma m u$$\n",
    "\n",
    "$$E = \\gamma mc^2 = \\sqrt{(pc)^2 + (mc^2)^2}$$\n",
    "\n",
    "where $c$ is the speed of light with $c$ = 3.00$\\times$10$^8$ m/s.  \n",
    "\n",
    "Notice that when a particle is at rest, $u$ = 0, and $\\gamma$ = 1.  When a particle moves at $c$, $\\gamma$ = $\\infty$.  The only particles that are capable of moving with $u$ = $c$ are *massless*.  The only massless fundamental particle is the *photon*.  \n",
    "\n",
    "The most natural units for relativistic calculations are \"nuclear\" or \"relativistic\" units:\n",
    "\n",
    "$[u] = [c]$\n",
    "\n",
    "$[m] = [MeV/c^2]$\n",
    "\n",
    "$[p] = [MeV/c]$\n",
    "\n",
    "$[E] = [MeV]$\n",
    "\n",
    "\"MeV\" stands for \"Mega-electron-Volts\".  Mega is the prefix for 1 million (or 10$^6$) and an electron-Volt is the energy that an electron would gain by being accelerated through a potential difference of 1 Volt.  \n",
    "\n",
    "With these units, mass and energy are basically equivalent - a particle of mass 1 MeV/c$^2$ at rest has $u$ = 0, a Lorentz factor ($\\gamma$) of 1, and an energy of 1 MeV.  This is where Einstein's famous equation for the \"rest energy\" of a particle comes from: $E = mc^2$ for a particle of mass $m$ at rest.\n",
    "\n"
   ]
  },
  {
   "cell_type": "markdown",
   "metadata": {},
   "source": [
    "**Q2: Calculate the energy of the following particles with momenta, $p$ = 1 GeV/c**\n",
    "\n",
    "* photon: $m_{\\gamma}$ = 0\n",
    "* electron: $m_e$ = 0.511 MeV/c$^2$\n",
    "* neutral pion: $m_{\\pi0}$ = 135 MeV/c$^2$\n",
    "* Kaon: $m_K$ = 497 MeV/c$^2$\n",
    "* Proton: $m_p$ = 938 MeV/c$^2$"
   ]
  },
  {
   "cell_type": "code",
   "execution_count": null,
   "metadata": {
    "collapsed": true
   },
   "outputs": [],
   "source": []
  },
  {
   "cell_type": "markdown",
   "metadata": {},
   "source": [
    "If you know the momentum and the mass of a particle, you can calculate its velocity.  The more momentum a particle has, the closer its velocity approaches the speed of light.  Energy has a similar relationship to velocity.  The closer the velocity gets to the speed of light, the more energy the particle has.  For photons, the energy depends only on momentum, and momentum for a photon depends only on its wavelength:  $p_{\\gamma} = h/\\lambda$, where $\\lambda$ is the wavelength and $h$ is Planck's constant. \n",
    "\n",
    "In high energy collisions we are usually only interested in (and able to measure) the momentum and energy of particles, so we needn't worry about the wavelength of the photons.  Photons with momenta in the MeV/c range have energies that correspond to the \"Gamma-ray\" portion of the electromagnetic spectrum so photons are sometimes referred to as \"gamma\" particles or \"gammas\".\n",
    "\n",
    "**Q3: Make a plot of velocity (on the y-axis) vs. momentum (on the x-axis) for each of the particles from Q2**"
   ]
  },
  {
   "cell_type": "code",
   "execution_count": null,
   "metadata": {
    "collapsed": true
   },
   "outputs": [],
   "source": []
  },
  {
   "cell_type": "markdown",
   "metadata": {},
   "source": [
    "**Q4: Make a plot of velocity (on the y-axis) vs. energy (on the x-axis) for each of the particles from Q2**"
   ]
  },
  {
   "cell_type": "code",
   "execution_count": null,
   "metadata": {
    "collapsed": true
   },
   "outputs": [],
   "source": []
  },
  {
   "cell_type": "markdown",
   "metadata": {},
   "source": [
    "ALICE EMCAL and TOF image"
   ]
  },
  {
   "cell_type": "markdown",
   "metadata": {},
   "source": [
    "More unit definitions: p as a vector, pT, phi, eta, connection to theta"
   ]
  },
  {
   "cell_type": "markdown",
   "metadata": {},
   "source": [
    "If you know the momentum components of a particle you can calculate the speed"
   ]
  },
  {
   "cell_type": "code",
   "execution_count": null,
   "metadata": {
    "collapsed": true
   },
   "outputs": [],
   "source": []
  }
 ],
 "metadata": {
  "kernelspec": {
   "display_name": "Python 2",
   "language": "python",
   "name": "python2"
  },
  "language_info": {
   "codemirror_mode": {
    "name": "ipython",
    "version": 2
   },
   "file_extension": ".py",
   "mimetype": "text/x-python",
   "name": "python",
   "nbconvert_exporter": "python",
   "pygments_lexer": "ipython2",
   "version": "2.7.9"
  }
 },
 "nbformat": 4,
 "nbformat_minor": 0
}
